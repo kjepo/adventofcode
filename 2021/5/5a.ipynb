{
 "cells": [
  {
   "cell_type": "markdown",
   "id": "afd24744",
   "metadata": {},
   "source": [
    "# Solution to Advent of Code, day 5, first problem"
   ]
  },
  {
   "cell_type": "markdown",
   "id": "29247152",
   "metadata": {},
   "source": [
    "Start with the sample input in file sample.txt:\n",
    "<pre>\n",
    "0,9 -> 5,9\n",
    "8,0 -> 0,8\n",
    "9,4 -> 3,4\n",
    "2,2 -> 2,1\n",
    "7,0 -> 7,4\n",
    "6,4 -> 2,0\n",
    "0,9 -> 2,9\n",
    "3,4 -> 1,4\n",
    "0,0 -> 8,8\n",
    "5,5 -> 8,2\n",
    "</pre>\n"
   ]
  },
  {
   "cell_type": "code",
   "execution_count": 68,
   "id": "1ee3699b",
   "metadata": {},
   "outputs": [],
   "source": [
    "# We need a 2D array, the dimension 10 is enough for the sample data\n",
    "N=10"
   ]
  },
  {
   "cell_type": "code",
   "execution_count": 70,
   "id": "bfdff34f",
   "metadata": {},
   "outputs": [],
   "source": [
    "# use numpy to simplify certain operations on 2D arrays\n",
    "import numpy as np"
   ]
  },
  {
   "cell_type": "code",
   "execution_count": 71,
   "id": "deca34c3",
   "metadata": {},
   "outputs": [],
   "source": [
    "# create a 2D array N*N of int with all 0's\n",
    "a = np.zeros([N, N], dtype=int)"
   ]
  },
  {
   "cell_type": "code",
   "execution_count": 72,
   "id": "be036f80",
   "metadata": {},
   "outputs": [
    {
     "name": "stdout",
     "output_type": "stream",
     "text": [
      "[[0 0 0 0 0 0 0 0 0 0]\n",
      " [0 0 0 0 0 0 0 0 0 0]\n",
      " [0 0 0 0 0 0 0 0 0 0]\n",
      " [0 0 0 0 0 0 0 0 0 0]\n",
      " [0 0 0 0 0 0 0 0 0 0]\n",
      " [0 0 0 0 0 0 0 0 0 0]\n",
      " [0 0 0 0 0 0 0 0 0 0]\n",
      " [0 0 0 0 0 0 0 0 0 0]\n",
      " [0 0 0 0 0 0 0 0 0 0]\n",
      " [0 0 0 0 0 0 0 0 0 0]]\n"
     ]
    }
   ],
   "source": [
    "print(a)"
   ]
  },
  {
   "cell_type": "code",
   "execution_count": 73,
   "id": "00611036",
   "metadata": {},
   "outputs": [],
   "source": [
    "# define my own range which goes from start to stop (inclusive),\n",
    "# regardless of whether start < stop or vice versa.\n",
    "def bidir_range(start, stop):\n",
    "    step = -1 if start > stop else 1\n",
    "    return range(start, stop + step, step)"
   ]
  },
  {
   "cell_type": "code",
   "execution_count": 74,
   "id": "946dbd80",
   "metadata": {},
   "outputs": [
    {
     "data": {
      "text/plain": [
       "[1, 2, 3, 4, 5, 6, 7, 8, 9, 10]"
      ]
     },
     "execution_count": 74,
     "metadata": {},
     "output_type": "execute_result"
    }
   ],
   "source": [
    "list(bidir_range(1,10))"
   ]
  },
  {
   "cell_type": "code",
   "execution_count": 75,
   "id": "4ddbab0f",
   "metadata": {},
   "outputs": [
    {
     "data": {
      "text/plain": [
       "[10, 9, 8, 7, 6, 5, 4, 3, 2, 1]"
      ]
     },
     "execution_count": 75,
     "metadata": {},
     "output_type": "execute_result"
    }
   ],
   "source": [
    "list(bidir_range(10,1))"
   ]
  },
  {
   "cell_type": "code",
   "execution_count": 76,
   "id": "5485b83a",
   "metadata": {},
   "outputs": [],
   "source": [
    "# this draws a horizontal or vertical line in a\n",
    "# by incrementing the individual cell count.\n",
    "def drawline(x0, y0, x1, y1):\n",
    "    global a\n",
    "    if x0 == x1:\n",
    "        for y in bidir_range(y0,y1):\n",
    "            a[x0,y] += 1\n",
    "    if y0 == y1:\n",
    "        for x in bidir_range(x0,x1):\n",
    "            a[x,y0] += 1"
   ]
  },
  {
   "cell_type": "code",
   "execution_count": 77,
   "id": "0fd0ee34",
   "metadata": {},
   "outputs": [
    {
     "name": "stdout",
     "output_type": "stream",
     "text": [
      "[[0 0 0 0 0 0 0 0 0 0]\n",
      " [0 0 0 0 0 0 0 0 0 1]\n",
      " [0 0 0 0 0 0 0 0 0 1]\n",
      " [0 0 0 0 0 0 0 0 0 1]\n",
      " [0 0 0 0 0 0 0 0 0 1]\n",
      " [0 0 0 0 0 0 0 0 0 1]\n",
      " [0 0 0 0 0 0 0 0 0 1]\n",
      " [0 0 0 0 0 0 0 0 0 1]\n",
      " [0 0 0 0 0 0 0 0 0 1]\n",
      " [0 0 0 0 0 0 0 0 0 1]]\n"
     ]
    }
   ],
   "source": [
    "drawline(1,9,9,9)\n",
    "print(a)"
   ]
  },
  {
   "cell_type": "code",
   "execution_count": 78,
   "id": "06b011c4",
   "metadata": {},
   "outputs": [
    {
     "name": "stdout",
     "output_type": "stream",
     "text": [
      "[[0 0 0 0 0 0 0 0 0 0]\n",
      " [0 0 0 0 0 0 0 0 0 1]\n",
      " [0 0 0 0 0 0 0 0 0 1]\n",
      " [0 0 0 0 0 0 0 0 0 1]\n",
      " [0 0 0 0 0 0 0 0 0 1]\n",
      " [0 0 0 0 0 0 0 0 0 1]\n",
      " [0 0 0 0 0 0 0 0 0 1]\n",
      " [0 0 0 0 0 0 0 0 0 1]\n",
      " [0 0 0 0 0 0 0 0 0 1]\n",
      " [0 1 1 1 1 1 1 1 1 2]]\n"
     ]
    }
   ],
   "source": [
    "drawline(9,1,9,9)\n",
    "print(a)"
   ]
  },
  {
   "cell_type": "code",
   "execution_count": 81,
   "id": "c6afee61",
   "metadata": {},
   "outputs": [
    {
     "name": "stdout",
     "output_type": "stream",
     "text": [
      "['0,9 -> 5,9\\n', '8,0 -> 0,8\\n', '9,4 -> 3,4\\n', '2,2 -> 2,1\\n', '7,0 -> 7,4\\n', '6,4 -> 2,0\\n', '0,9 -> 2,9\\n', '3,4 -> 1,4\\n', '0,0 -> 8,8\\n', '5,5 -> 8,2\\n']\n"
     ]
    }
   ],
   "source": [
    "# read all lines from data sample\n",
    "lines = open(\"sample.txt\").readlines()\n",
    "print(lines)"
   ]
  },
  {
   "cell_type": "code",
   "execution_count": 82,
   "id": "1d13d5c9",
   "metadata": {},
   "outputs": [
    {
     "name": "stdout",
     "output_type": "stream",
     "text": [
      "0,9 -> 5,9\n",
      "\n"
     ]
    }
   ],
   "source": [
    "# we now need to parse each individual line, which looks something like this\n",
    "print(lines[0])"
   ]
  },
  {
   "cell_type": "code",
   "execution_count": 84,
   "id": "e64f958f",
   "metadata": {},
   "outputs": [],
   "source": [
    "# use regular expressions for integers to extract a list of all numbers\n",
    "def parse(line):\n",
    "    import re\n",
    "    return re.findall(r'\\d+', line)"
   ]
  },
  {
   "cell_type": "code",
   "execution_count": 86,
   "id": "4760c239",
   "metadata": {},
   "outputs": [
    {
     "name": "stdout",
     "output_type": "stream",
     "text": [
      "['0', '9', '5', '9']\n"
     ]
    }
   ],
   "source": [
    "# note that the numbers are still stored as strings\n",
    "print(parse(lines[0]))"
   ]
  },
  {
   "cell_type": "code",
   "execution_count": 87,
   "id": "748648d7",
   "metadata": {},
   "outputs": [
    {
     "name": "stdout",
     "output_type": "stream",
     "text": [
      "[[0 0 0 0 0 0 0 1 0 0]\n",
      " [0 0 1 0 0 0 0 1 0 0]\n",
      " [0 0 1 0 0 0 0 1 0 0]\n",
      " [0 0 0 0 0 0 0 1 0 0]\n",
      " [0 1 1 2 1 1 1 2 1 1]\n",
      " [0 0 0 0 0 0 0 0 0 0]\n",
      " [0 0 0 0 0 0 0 0 0 0]\n",
      " [0 0 0 0 0 0 0 0 0 0]\n",
      " [0 0 0 0 0 0 0 0 0 0]\n",
      " [2 2 2 1 1 1 0 0 0 0]]\n"
     ]
    }
   ],
   "source": [
    "# now reset the array and process all the lines\n",
    "a = np.zeros([N, N], dtype=int)\n",
    "for line in lines:\n",
    "    [y0,x0,y1,x1] = parse(line)\n",
    "    drawline(int(x0),int(y0),int(x1),int(y1))\n",
    "print(a)"
   ]
  },
  {
   "cell_type": "code",
   "execution_count": 88,
   "id": "ab610e83",
   "metadata": {},
   "outputs": [
    {
     "name": "stdout",
     "output_type": "stream",
     "text": [
      "5\n"
     ]
    }
   ],
   "source": [
    "# count the number of overlaps, i.e., number of cells > 1\n",
    "print(np.count_nonzero(a>1))"
   ]
  },
  {
   "cell_type": "code",
   "execution_count": 89,
   "id": "561fdf5d",
   "metadata": {},
   "outputs": [
    {
     "name": "stdout",
     "output_type": "stream",
     "text": [
      "5774\n"
     ]
    }
   ],
   "source": [
    "# Great, so code seems to be working.\n",
    "# Now run it on the real data from Advent of Code\n",
    "N=1000\n",
    "a = np.zeros([N, N], dtype=int)\n",
    "lines = open(\"data.txt\").readlines()\n",
    "for line in lines:\n",
    "    [y0,x0,y1,x1] = parse(line)\n",
    "    drawline(int(x0),int(y0),int(x1),int(y1))\n",
    "print(np.count_nonzero(a>1))"
   ]
  },
  {
   "cell_type": "code",
   "execution_count": null,
   "id": "84d74e38",
   "metadata": {},
   "outputs": [],
   "source": []
  }
 ],
 "metadata": {
  "kernelspec": {
   "display_name": "Python 3",
   "language": "python",
   "name": "python3"
  },
  "language_info": {
   "codemirror_mode": {
    "name": "ipython",
    "version": 3
   },
   "file_extension": ".py",
   "mimetype": "text/x-python",
   "name": "python",
   "nbconvert_exporter": "python",
   "pygments_lexer": "ipython3",
   "version": "3.9.9"
  }
 },
 "nbformat": 4,
 "nbformat_minor": 5
}
